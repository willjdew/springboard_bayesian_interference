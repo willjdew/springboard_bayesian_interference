{
 "cells": [
  {
   "cell_type": "markdown",
   "metadata": {},
   "source": [
    "# Inferential Statistics III - Bayesian"
   ]
  },
  {
   "cell_type": "markdown",
   "metadata": {},
   "source": [
    "## Introduction"
   ]
  },
  {
   "cell_type": "markdown",
   "metadata": {},
   "source": [
    "In the last two subunits, you've encountered two schools for performing inference from samples. The Frequentist school calls upon a body of theory established over the past couple of centuries or so. Under certain assumptions and conditions, this allows us to calculate what we would expect to see if an experiment were to be repeated again and again and again. The expected value of the average of a sample is one such statistic we can calculate a result for, even if the originating distribution is far from normal. The bootstrap school, on the other hand, literally does (virtually) run that experiment again and again and again and empirically observes the multitude of outcomes. It then empirically calculates a statistic of interest. While this can be for exactly the same statistics that frequentism calculates (e.g. the mean of a sample) this empirical approach can also perform inference on statistics that do not have well known sampling distributions. Because of the requirement to repeat many, many redraws (with replacement) from the sample, this approach only became feasible with modern computing power.\n",
    "\n",
    "And thus we come to the Bayesian school of inference. Here we frame our probabilities not so much in terms of \"how many times would I expect this event to occur if the experiment were to be rerun many times\" but rather in terms of \"what is my belief in the likelihood of this event occurring?\" In a Bayesian probabilistic programming context, we can build models for systems and then let the data tell us how likely certain values for our model parameters are. This can be a very useful way to incorporate prior knowledge and deal with limited data. It can just be more than a _little_ fiddly to produce a good model!"
   ]
  },
  {
   "cell_type": "markdown",
   "metadata": {},
   "source": [
    "## Medical charge data set"
   ]
  },
  {
   "cell_type": "markdown",
   "metadata": {},
   "source": [
    "For the final mini-project of the stats unit, you'll once again return to the medical charge data you've used for the other mini-projects. Previously, we considered whether we believed that the actual average(non-insured) charge had fallen below a certain threshold.\n",
    "\n",
    "The hospital is now reviewing its financial resiliency plan, which requires a model for revenue under a range of conditions that include the number of patients treated. Its current model is based on a confidence interval for the mean, and scaling that by different numbers of patients for each scenario. This approach has a number of limitations, most acutely the breakdown of the central limit theorem for low patient volumes; the current model does not do a good job of reflecting the variability in revenue you would see as the number of cases drops. A bootstrap approach would return samples of the same size as the original. Taking subsamples would restrict the sampling to the values already present in the original sample and would not do a good job of representing the actual variability you might see. What is needed is a better model of individual charges.\n",
    "\n",
    "So the problem here is that we want to model the distribution of individual charges and _we also really want to be able to capture our uncertainty about that distribution_ so we can better capture the range of values we might see. This naturally leads us to a powerful, probabilistic approach — we'll use the pymc3 library to perform Bayesian inference."
   ]
  },
  {
   "cell_type": "markdown",
   "metadata": {},
   "source": [
    "### Loading the data and performing an initial view"
   ]
  },
  {
   "cell_type": "code",
   "execution_count": 1,
   "metadata": {},
   "outputs": [
    {
     "name": "stderr",
     "output_type": "stream",
     "text": [
      "WARNING (theano.configdefaults): g++ not available, if using conda: `conda install m2w64-toolchain`\n",
      "C:\\ProgramData\\Anaconda3\\lib\\site-packages\\theano\\configdefaults.py:560: UserWarning: DeprecationWarning: there is no c++ compiler.This is deprecated and with Theano 0.11 a c++ compiler will be mandatory\n",
      "  warnings.warn(\"DeprecationWarning: there is no c++ compiler.\"\n",
      "WARNING (theano.configdefaults): g++ not detected ! Theano will be unable to execute optimized C-implementations (for both CPU and GPU) and will default to Python implementations. Performance will be severely degraded. To remove this warning, set Theano flags cxx to an empty string.\n",
      "WARNING (theano.tensor.blas): Using NumPy C-API based implementation for BLAS functions.\n"
     ]
    }
   ],
   "source": [
    "from pip._internal import main\n",
    "try:\n",
    "    import pymc3\n",
    "except:\n",
    "    from pip._internal import main\n",
    "    main(['install', 'pymc3'])\n",
    "    import pymc3"
   ]
  },
  {
   "cell_type": "code",
   "execution_count": 2,
   "metadata": {
    "scrolled": true
   },
   "outputs": [
    {
     "name": "stdout",
     "output_type": "stream",
     "text": [
      "Collecting arviz==0.2.0\n",
      "  Downloading https://files.pythonhosted.org/packages/5b/57/aaf76973a01ebd4710290b3a507db81b326c179b86b587c9f88c48158687/arviz-0.2.0-py3-none-any.whl (1.3MB)\n",
      "Requirement already satisfied: scipy in c:\\programdata\\anaconda3\\lib\\site-packages (from arviz==0.2.0) (1.3.0)\n",
      "Collecting xarray (from arviz==0.2.0)\n",
      "  Downloading https://files.pythonhosted.org/packages/7e/84/e1127b7807a1a98da6d977939b11e89cb924b8b6d8917d9894eb8f39c230/xarray-0.14.0-py3-none-any.whl (598kB)\n",
      "Collecting netcdf4 (from arviz==0.2.0)\n",
      "  Downloading https://files.pythonhosted.org/packages/72/0c/9a582a18072c4ff40bc70d7bbb7915e64c82cf15812b1a248abc8f73bd9f/netCDF4-1.5.3-cp37-cp37m-win32.whl (2.5MB)\n",
      "Requirement already satisfied: pandas in c:\\programdata\\anaconda3\\lib\\site-packages (from arviz==0.2.0) (0.24.2)\n",
      "Requirement already satisfied: numpy in c:\\programdata\\anaconda3\\lib\\site-packages (from arviz==0.2.0) (1.16.4)\n",
      "Requirement already satisfied: matplotlib>=3.0 in c:\\programdata\\anaconda3\\lib\\site-packages (from arviz==0.2.0) (3.1.0)\n",
      "Collecting cftime (from netcdf4->arviz==0.2.0)\n",
      "  Downloading https://files.pythonhosted.org/packages/63/2e/a36fe23889891abe5efe7b414b466a932773131f2760eb16710c49d0e2f6/cftime-1.0.4.2-cp37-none-win32.whl (172kB)\n",
      "Requirement already satisfied: pytz>=2011k in c:\\programdata\\anaconda3\\lib\\site-packages (from pandas->arviz==0.2.0) (2019.1)\n",
      "Requirement already satisfied: python-dateutil>=2.5.0 in c:\\programdata\\anaconda3\\lib\\site-packages (from pandas->arviz==0.2.0) (2.8.0)\n",
      "Requirement already satisfied: cycler>=0.10 in c:\\programdata\\anaconda3\\lib\\site-packages (from matplotlib>=3.0->arviz==0.2.0) (0.10.0)\n",
      "Requirement already satisfied: kiwisolver>=1.0.1 in c:\\programdata\\anaconda3\\lib\\site-packages (from matplotlib>=3.0->arviz==0.2.0) (1.1.0)\n",
      "Requirement already satisfied: pyparsing!=2.0.4,!=2.1.2,!=2.1.6,>=2.0.1 in c:\\programdata\\anaconda3\\lib\\site-packages (from matplotlib>=3.0->arviz==0.2.0) (2.4.0)\n",
      "Requirement already satisfied: six>=1.5 in c:\\programdata\\anaconda3\\lib\\site-packages (from python-dateutil>=2.5.0->pandas->arviz==0.2.0) (1.12.0)\n",
      "Requirement already satisfied: setuptools in c:\\programdata\\anaconda3\\lib\\site-packages (from kiwisolver>=1.0.1->matplotlib>=3.0->arviz==0.2.0) (41.0.1)\n",
      "Installing collected packages: xarray, cftime, netcdf4, arviz\n",
      "Successfully installed arviz-0.2.0 cftime-1.0.4.2 netcdf4-1.5.3 xarray-0.14.0\n",
      "Note: you may need to restart the kernel to use updated packages.\n"
     ]
    }
   ],
   "source": [
    "pip install arviz==0.2.0"
   ]
  },
  {
   "cell_type": "code",
   "execution_count": 2,
   "metadata": {},
   "outputs": [
    {
     "name": "stdout",
     "output_type": "stream",
     "text": [
      "Collecting package metadata (current_repodata.json): ...working... done\n",
      "Solving environment: ...working... done\n",
      "\n",
      "## Package Plan ##\n",
      "\n",
      "  environment location: C:\\ProgramData\\Anaconda3\n",
      "\n",
      "  added / updated specs:\n",
      "    - m2w64-toolchain\n",
      "\n",
      "\n",
      "The following packages will be downloaded:\n",
      "\n",
      "    package                    |            build\n",
      "    ---------------------------|-----------------\n",
      "    conda-4.7.12               |           py37_0         3.0 MB\n",
      "    m2w64-binutils-2.25.1      |                5        42.2 MB\n",
      "    m2w64-bzip2-1.0.6          |                6          96 KB\n",
      "    m2w64-crt-git-5.0.0.4636.2595836|                2         2.3 MB\n",
      "    m2w64-gcc-5.3.0            |                6        39.9 MB\n",
      "    m2w64-gcc-ada-5.3.0        |                6        31.3 MB\n",
      "    m2w64-gcc-fortran-5.3.0    |                6         9.7 MB\n",
      "    m2w64-gcc-objc-5.3.0       |                6        14.2 MB\n",
      "    m2w64-headers-git-5.0.0.4636.c0ad18a|                2         5.6 MB\n",
      "    m2w64-isl-0.16.1           |                2         643 KB\n",
      "    m2w64-libiconv-1.14        |                6         1.5 MB\n",
      "    m2w64-libmangle-git-5.0.0.4509.2e5a9a2|                2          21 KB\n",
      "    m2w64-make-4.1.2351.a80a8b8|                2         117 KB\n",
      "    m2w64-mpc-1.0.3            |                3          69 KB\n",
      "    m2w64-mpfr-3.1.4           |                4         277 KB\n",
      "    m2w64-pkg-config-0.29.1    |                2         519 KB\n",
      "    m2w64-toolchain-5.3.0      |                7           2 KB\n",
      "    m2w64-tools-git-5.0.0.4592.90b8472|                2         294 KB\n",
      "    m2w64-windows-default-manifest-6.4|                3           3 KB\n",
      "    m2w64-winpthreads-git-5.0.0.4634.697f757|                2          46 KB\n",
      "    m2w64-zlib-1.2.8           |               10         200 KB\n",
      "    ------------------------------------------------------------\n",
      "                                           Total:       151.9 MB\n",
      "\n",
      "The following NEW packages will be INSTALLED:\n",
      "\n",
      "  m2w64-binutils     pkgs/msys2/win-32::m2w64-binutils-2.25.1-5\n",
      "  m2w64-bzip2        pkgs/msys2/win-32::m2w64-bzip2-1.0.6-6\n",
      "  m2w64-crt-git      pkgs/msys2/win-32::m2w64-crt-git-5.0.0.4636.2595836-2\n",
      "  m2w64-gcc          pkgs/msys2/win-32::m2w64-gcc-5.3.0-6\n",
      "  m2w64-gcc-ada      pkgs/msys2/win-32::m2w64-gcc-ada-5.3.0-6\n",
      "  m2w64-gcc-fortran  pkgs/msys2/win-32::m2w64-gcc-fortran-5.3.0-6\n",
      "  m2w64-gcc-objc     pkgs/msys2/win-32::m2w64-gcc-objc-5.3.0-6\n",
      "  m2w64-headers-git  pkgs/msys2/win-32::m2w64-headers-git-5.0.0.4636.c0ad18a-2\n",
      "  m2w64-isl          pkgs/msys2/win-32::m2w64-isl-0.16.1-2\n",
      "  m2w64-libiconv     pkgs/msys2/win-32::m2w64-libiconv-1.14-6\n",
      "  m2w64-libmangle-g~ pkgs/msys2/win-32::m2w64-libmangle-git-5.0.0.4509.2e5a9a2-2\n",
      "  m2w64-make         pkgs/msys2/win-32::m2w64-make-4.1.2351.a80a8b8-2\n",
      "  m2w64-mpc          pkgs/msys2/win-32::m2w64-mpc-1.0.3-3\n",
      "  m2w64-mpfr         pkgs/msys2/win-32::m2w64-mpfr-3.1.4-4\n",
      "  m2w64-pkg-config   pkgs/msys2/win-32::m2w64-pkg-config-0.29.1-2\n",
      "  m2w64-toolchain    pkgs/msys2/win-32::m2w64-toolchain-5.3.0-7\n",
      "  m2w64-tools-git    pkgs/msys2/win-32::m2w64-tools-git-5.0.0.4592.90b8472-2\n",
      "  m2w64-windows-def~ pkgs/msys2/win-32::m2w64-windows-default-manifest-6.4-3\n",
      "  m2w64-winpthreads~ pkgs/msys2/win-32::m2w64-winpthreads-git-5.0.0.4634.697f757-2\n",
      "  m2w64-zlib         pkgs/msys2/win-32::m2w64-zlib-1.2.8-10\n",
      "\n",
      "The following packages will be UPDATED:\n",
      "\n",
      "  conda                                       4.7.10-py37_0 --> 4.7.12-py37_0\n",
      "\n",
      "\n",
      "\n",
      "Downloading and Extracting Packages\n",
      "\n",
      "m2w64-isl-0.16.1     | 643 KB    |            |   0% \n",
      "m2w64-isl-0.16.1     | 643 KB    | 2          |   2% \n",
      "m2w64-isl-0.16.1     | 643 KB    | #########7 |  97% \n",
      "m2w64-isl-0.16.1     | 643 KB    | ########## | 100% \n",
      "\n",
      "m2w64-winpthreads-gi | 46 KB     |            |   0% \n",
      "m2w64-winpthreads-gi | 46 KB     | ########## | 100% \n",
      "\n",
      "m2w64-gcc-fortran-5. | 9.7 MB    |            |   0% \n",
      "m2w64-gcc-fortran-5. | 9.7 MB    |            |   1% \n",
      "m2w64-gcc-fortran-5. | 9.7 MB    | 9          |   9% \n",
      "m2w64-gcc-fortran-5. | 9.7 MB    | #7         |  18% \n",
      "m2w64-gcc-fortran-5. | 9.7 MB    | ##5        |  26% \n",
      "m2w64-gcc-fortran-5. | 9.7 MB    | ###3       |  34% \n",
      "m2w64-gcc-fortran-5. | 9.7 MB    | ###9       |  40% \n",
      "m2w64-gcc-fortran-5. | 9.7 MB    | ####7      |  47% \n",
      "m2w64-gcc-fortran-5. | 9.7 MB    | #####5     |  55% \n",
      "m2w64-gcc-fortran-5. | 9.7 MB    | ######2    |  62% \n",
      "m2w64-gcc-fortran-5. | 9.7 MB    | #######    |  70% \n",
      "m2w64-gcc-fortran-5. | 9.7 MB    | #######8   |  79% \n",
      "m2w64-gcc-fortran-5. | 9.7 MB    | ########6  |  87% \n",
      "m2w64-gcc-fortran-5. | 9.7 MB    | #########4 |  95% \n",
      "m2w64-gcc-fortran-5. | 9.7 MB    | ########## | 100% \n",
      "\n",
      "m2w64-crt-git-5.0.0. | 2.3 MB    |            |   0% \n",
      "m2w64-crt-git-5.0.0. | 2.3 MB    |            |   1% \n",
      "m2w64-crt-git-5.0.0. | 2.3 MB    | ##9        |  30% \n",
      "m2w64-crt-git-5.0.0. | 2.3 MB    | ######3    |  63% \n",
      "m2w64-crt-git-5.0.0. | 2.3 MB    | ########## | 100% \n",
      "\n",
      "m2w64-mpc-1.0.3      | 69 KB     |            |   0% \n",
      "m2w64-mpc-1.0.3      | 69 KB     | ##3        |  23% \n",
      "m2w64-mpc-1.0.3      | 69 KB     | ########## | 100% \n",
      "\n",
      "m2w64-toolchain-5.3. | 2 KB      |            |   0% \n",
      "m2w64-toolchain-5.3. | 2 KB      | ########## | 100% \n",
      "\n",
      "m2w64-make-4.1.2351. | 117 KB    |            |   0% \n",
      "m2w64-make-4.1.2351. | 117 KB    | #3         |  14% \n",
      "m2w64-make-4.1.2351. | 117 KB    | ########## | 100% \n",
      "\n",
      "m2w64-pkg-config-0.2 | 519 KB    |            |   0% \n",
      "m2w64-pkg-config-0.2 | 519 KB    | #8         |  19% \n",
      "m2w64-pkg-config-0.2 | 519 KB    | ########## | 100% \n",
      "\n",
      "m2w64-tools-git-5.0. | 294 KB    |            |   0% \n",
      "m2w64-tools-git-5.0. | 294 KB    | 5          |   5% \n",
      "m2w64-tools-git-5.0. | 294 KB    | ########## | 100% \n",
      "\n",
      "m2w64-gcc-5.3.0      | 39.9 MB   |            |   0% \n",
      "m2w64-gcc-5.3.0      | 39.9 MB   |            |   0% \n",
      "m2w64-gcc-5.3.0      | 39.9 MB   | 2          |   2% \n",
      "m2w64-gcc-5.3.0      | 39.9 MB   | 4          |   4% \n",
      "m2w64-gcc-5.3.0      | 39.9 MB   | 6          |   6% \n",
      "m2w64-gcc-5.3.0      | 39.9 MB   | 8          |   8% \n",
      "m2w64-gcc-5.3.0      | 39.9 MB   | #          |  10% \n",
      "m2w64-gcc-5.3.0      | 39.9 MB   | #2         |  12% \n",
      "m2w64-gcc-5.3.0      | 39.9 MB   | #4         |  14% \n",
      "m2w64-gcc-5.3.0      | 39.9 MB   | #6         |  16% \n",
      "m2w64-gcc-5.3.0      | 39.9 MB   | #8         |  18% \n",
      "m2w64-gcc-5.3.0      | 39.9 MB   | ##         |  20% \n",
      "m2w64-gcc-5.3.0      | 39.9 MB   | ##2        |  22% \n",
      "m2w64-gcc-5.3.0      | 39.9 MB   | ##4        |  24% \n",
      "m2w64-gcc-5.3.0      | 39.9 MB   | ##6        |  26% \n",
      "m2w64-gcc-5.3.0      | 39.9 MB   | ##7        |  28% \n",
      "m2w64-gcc-5.3.0      | 39.9 MB   | ##9        |  30% \n",
      "m2w64-gcc-5.3.0      | 39.9 MB   | ###1       |  32% \n",
      "m2w64-gcc-5.3.0      | 39.9 MB   | ###3       |  34% \n",
      "m2w64-gcc-5.3.0      | 39.9 MB   | ###5       |  36% \n",
      "m2w64-gcc-5.3.0      | 39.9 MB   | ###7       |  38% \n",
      "m2w64-gcc-5.3.0      | 39.9 MB   | ###9       |  39% \n",
      "m2w64-gcc-5.3.0      | 39.9 MB   | ####1      |  41% \n",
      "m2w64-gcc-5.3.0      | 39.9 MB   | ####2      |  43% \n",
      "m2w64-gcc-5.3.0      | 39.9 MB   | ####4      |  45% \n",
      "m2w64-gcc-5.3.0      | 39.9 MB   | ####7      |  47% \n",
      "m2w64-gcc-5.3.0      | 39.9 MB   | ####9      |  49% \n",
      "m2w64-gcc-5.3.0      | 39.9 MB   | #####1     |  51% \n",
      "m2w64-gcc-5.3.0      | 39.9 MB   | #####3     |  53% \n",
      "m2w64-gcc-5.3.0      | 39.9 MB   | #####5     |  55% \n",
      "m2w64-gcc-5.3.0      | 39.9 MB   | #####6     |  57% \n",
      "m2w64-gcc-5.3.0      | 39.9 MB   | #####8     |  59% \n",
      "m2w64-gcc-5.3.0      | 39.9 MB   | ######     |  61% \n",
      "m2w64-gcc-5.3.0      | 39.9 MB   | ######2    |  63% \n",
      "m2w64-gcc-5.3.0      | 39.9 MB   | ######4    |  64% \n",
      "m2w64-gcc-5.3.0      | 39.9 MB   | ######6    |  66% \n",
      "m2w64-gcc-5.3.0      | 39.9 MB   | ######7    |  68% \n",
      "m2w64-gcc-5.3.0      | 39.9 MB   | ######9    |  69% \n",
      "m2w64-gcc-5.3.0      | 39.9 MB   | #######1   |  71% \n",
      "m2w64-gcc-5.3.0      | 39.9 MB   | #######3   |  73% \n",
      "m2w64-gcc-5.3.0      | 39.9 MB   | #######5   |  75% \n",
      "m2w64-gcc-5.3.0      | 39.9 MB   | #######7   |  77% \n",
      "m2w64-gcc-5.3.0      | 39.9 MB   | #######9   |  79% \n",
      "m2w64-gcc-5.3.0      | 39.9 MB   | ########   |  81% \n",
      "m2w64-gcc-5.3.0      | 39.9 MB   | ########2  |  83% \n",
      "m2w64-gcc-5.3.0      | 39.9 MB   | ########4  |  85% \n",
      "m2w64-gcc-5.3.0      | 39.9 MB   | ########6  |  87% \n",
      "m2w64-gcc-5.3.0      | 39.9 MB   | ########8  |  89% \n",
      "m2w64-gcc-5.3.0      | 39.9 MB   | #########  |  91% \n",
      "m2w64-gcc-5.3.0      | 39.9 MB   | #########2 |  93% \n",
      "m2w64-gcc-5.3.0      | 39.9 MB   | #########4 |  95% \n",
      "m2w64-gcc-5.3.0      | 39.9 MB   | #########6 |  97% \n",
      "m2w64-gcc-5.3.0      | 39.9 MB   | #########8 |  99% \n",
      "m2w64-gcc-5.3.0      | 39.9 MB   | ########## | 100% \n",
      "\n",
      "m2w64-libiconv-1.14  | 1.5 MB    |            |   0% \n",
      "m2w64-libiconv-1.14  | 1.5 MB    | ###9       |  39% \n",
      "m2w64-libiconv-1.14  | 1.5 MB    | #########4 |  95% \n",
      "m2w64-libiconv-1.14  | 1.5 MB    | ########## | 100% \n",
      "\n",
      "m2w64-libmangle-git- | 21 KB     |            |   0% \n",
      "m2w64-libmangle-git- | 21 KB     | #######5   |  76% \n",
      "m2w64-libmangle-git- | 21 KB     | ########## | 100% \n",
      "\n",
      "conda-4.7.12         | 3.0 MB    |            |   0% \n",
      "conda-4.7.12         | 3.0 MB    | 4          |   4% \n",
      "conda-4.7.12         | 3.0 MB    | ##9        |  30% \n",
      "conda-4.7.12         | 3.0 MB    | #####5     |  56% \n",
      "conda-4.7.12         | 3.0 MB    | ########1  |  81% \n",
      "conda-4.7.12         | 3.0 MB    | ########## | 100% \n",
      "\n",
      "m2w64-binutils-2.25. | 42.2 MB   |            |   0% \n",
      "m2w64-binutils-2.25. | 42.2 MB   |            |   0% \n",
      "m2w64-binutils-2.25. | 42.2 MB   | 1          |   2% \n",
      "m2w64-binutils-2.25. | 42.2 MB   | 3          |   3% \n",
      "m2w64-binutils-2.25. | 42.2 MB   | 5          |   5% \n",
      "m2w64-binutils-2.25. | 42.2 MB   | 7          |   7% \n",
      "m2w64-binutils-2.25. | 42.2 MB   | 9          |   9% \n",
      "m2w64-binutils-2.25. | 42.2 MB   | #1         |  11% \n",
      "m2w64-binutils-2.25. | 42.2 MB   | #2         |  13% \n",
      "m2w64-binutils-2.25. | 42.2 MB   | #4         |  14% \n",
      "m2w64-binutils-2.25. | 42.2 MB   | #6         |  16% \n",
      "m2w64-binutils-2.25. | 42.2 MB   | #8         |  18% \n",
      "m2w64-binutils-2.25. | 42.2 MB   | #9         |  20% \n",
      "m2w64-binutils-2.25. | 42.2 MB   | ##1        |  21% \n",
      "m2w64-binutils-2.25. | 42.2 MB   | ##3        |  23% \n",
      "m2w64-binutils-2.25. | 42.2 MB   | ##4        |  25% \n",
      "m2w64-binutils-2.25. | 42.2 MB   | ##6        |  26% \n",
      "m2w64-binutils-2.25. | 42.2 MB   | ##7        |  28% \n",
      "m2w64-binutils-2.25. | 42.2 MB   | ##9        |  29% \n",
      "m2w64-binutils-2.25. | 42.2 MB   | ###        |  31% \n",
      "m2w64-binutils-2.25. | 42.2 MB   | ###2       |  33% \n",
      "m2w64-binutils-2.25. | 42.2 MB   | ###4       |  35% \n",
      "m2w64-binutils-2.25. | 42.2 MB   | ###6       |  36% \n",
      "m2w64-binutils-2.25. | 42.2 MB   | ###8       |  38% \n",
      "m2w64-binutils-2.25. | 42.2 MB   | ####       |  40% \n",
      "m2w64-binutils-2.25. | 42.2 MB   | ####1      |  42% \n",
      "m2w64-binutils-2.25. | 42.2 MB   | ####3      |  44% \n",
      "m2w64-binutils-2.25. | 42.2 MB   | ####5      |  46% \n",
      "m2w64-binutils-2.25. | 42.2 MB   | ####7      |  48% \n",
      "m2w64-binutils-2.25. | 42.2 MB   | ####9      |  50% \n",
      "m2w64-binutils-2.25. | 42.2 MB   | #####1     |  51% \n",
      "m2w64-binutils-2.25. | 42.2 MB   | #####3     |  53% \n",
      "m2w64-binutils-2.25. | 42.2 MB   | #####5     |  55% \n",
      "m2w64-binutils-2.25. | 42.2 MB   | #####6     |  57% \n",
      "m2w64-binutils-2.25. | 42.2 MB   | #####8     |  59% \n",
      "m2w64-binutils-2.25. | 42.2 MB   | ######     |  60% \n",
      "m2w64-binutils-2.25. | 42.2 MB   | ######2    |  62% \n",
      "m2w64-binutils-2.25. | 42.2 MB   | ######3    |  64% \n",
      "m2w64-binutils-2.25. | 42.2 MB   | ######5    |  66% \n",
      "m2w64-binutils-2.25. | 42.2 MB   | ######7    |  68% \n",
      "m2w64-binutils-2.25. | 42.2 MB   | ######9    |  69% \n",
      "m2w64-binutils-2.25. | 42.2 MB   | #######1   |  71% \n",
      "m2w64-binutils-2.25. | 42.2 MB   | #######2   |  73% \n",
      "m2w64-binutils-2.25. | 42.2 MB   | #######4   |  75% \n",
      "m2w64-binutils-2.25. | 42.2 MB   | #######6   |  77% \n",
      "m2w64-binutils-2.25. | 42.2 MB   | #######8   |  79% \n",
      "m2w64-binutils-2.25. | 42.2 MB   | ########   |  81% \n",
      "m2w64-binutils-2.25. | 42.2 MB   | ########2  |  83% \n",
      "m2w64-binutils-2.25. | 42.2 MB   | ########4  |  85% \n",
      "m2w64-binutils-2.25. | 42.2 MB   | ########6  |  86% \n",
      "m2w64-binutils-2.25. | 42.2 MB   | ########8  |  88% \n",
      "m2w64-binutils-2.25. | 42.2 MB   | #########  |  90% \n",
      "m2w64-binutils-2.25. | 42.2 MB   | #########1 |  92% \n",
      "m2w64-binutils-2.25. | 42.2 MB   | #########3 |  93% \n",
      "m2w64-binutils-2.25. | 42.2 MB   | #########5 |  95% \n",
      "m2w64-binutils-2.25. | 42.2 MB   | #########7 |  97% \n",
      "m2w64-binutils-2.25. | 42.2 MB   | #########9 |  99% \n",
      "m2w64-binutils-2.25. | 42.2 MB   | ########## | 100% \n",
      "\n",
      "m2w64-zlib-1.2.8     | 200 KB    |            |   0% \n",
      "m2w64-zlib-1.2.8     | 200 KB    | ########## | 100% \n",
      "\n",
      "m2w64-gcc-ada-5.3.0  | 31.3 MB   |            |   0% \n",
      "m2w64-gcc-ada-5.3.0  | 31.3 MB   |            |   0% \n",
      "m2w64-gcc-ada-5.3.0  | 31.3 MB   | 2          |   2% \n",
      "m2w64-gcc-ada-5.3.0  | 31.3 MB   | 4          |   5% \n",
      "m2w64-gcc-ada-5.3.0  | 31.3 MB   | 7          |   7% \n",
      "m2w64-gcc-ada-5.3.0  | 31.3 MB   | 8          |   8% \n",
      "m2w64-gcc-ada-5.3.0  | 31.3 MB   | #          |  11% \n",
      "m2w64-gcc-ada-5.3.0  | 31.3 MB   | #3         |  13% \n",
      "m2w64-gcc-ada-5.3.0  | 31.3 MB   | #5         |  16% \n",
      "m2w64-gcc-ada-5.3.0  | 31.3 MB   | #8         |  18% \n",
      "m2w64-gcc-ada-5.3.0  | 31.3 MB   | ##         |  21% \n",
      "m2w64-gcc-ada-5.3.0  | 31.3 MB   | ##3        |  24% \n",
      "m2w64-gcc-ada-5.3.0  | 31.3 MB   | ##5        |  26% \n",
      "m2w64-gcc-ada-5.3.0  | 31.3 MB   | ##8        |  29% \n",
      "m2w64-gcc-ada-5.3.0  | 31.3 MB   | ###1       |  31% \n",
      "m2w64-gcc-ada-5.3.0  | 31.3 MB   | ###3       |  34% \n",
      "m2w64-gcc-ada-5.3.0  | 31.3 MB   | ###6       |  36% \n",
      "m2w64-gcc-ada-5.3.0  | 31.3 MB   | ###8       |  39% \n",
      "m2w64-gcc-ada-5.3.0  | 31.3 MB   | ####       |  41% \n",
      "m2w64-gcc-ada-5.3.0  | 31.3 MB   | ####3      |  43% \n",
      "m2w64-gcc-ada-5.3.0  | 31.3 MB   | ####5      |  45% \n",
      "m2w64-gcc-ada-5.3.0  | 31.3 MB   | ####7      |  48% \n",
      "m2w64-gcc-ada-5.3.0  | 31.3 MB   | ####9      |  49% \n",
      "m2w64-gcc-ada-5.3.0  | 31.3 MB   | #####1     |  52% \n",
      "m2w64-gcc-ada-5.3.0  | 31.3 MB   | #####4     |  54% \n",
      "m2w64-gcc-ada-5.3.0  | 31.3 MB   | #####6     |  56% \n",
      "m2w64-gcc-ada-5.3.0  | 31.3 MB   | #####8     |  59% \n",
      "m2w64-gcc-ada-5.3.0  | 31.3 MB   | ######1    |  62% \n",
      "m2w64-gcc-ada-5.3.0  | 31.3 MB   | ######4    |  64% \n",
      "m2w64-gcc-ada-5.3.0  | 31.3 MB   | ######6    |  67% \n",
      "m2w64-gcc-ada-5.3.0  | 31.3 MB   | ######9    |  69% \n",
      "m2w64-gcc-ada-5.3.0  | 31.3 MB   | #######1   |  72% \n",
      "m2w64-gcc-ada-5.3.0  | 31.3 MB   | #######4   |  74% \n",
      "m2w64-gcc-ada-5.3.0  | 31.3 MB   | #######6   |  77% \n",
      "m2w64-gcc-ada-5.3.0  | 31.3 MB   | #######9   |  79% \n",
      "m2w64-gcc-ada-5.3.0  | 31.3 MB   | ########1  |  81% \n",
      "m2w64-gcc-ada-5.3.0  | 31.3 MB   | ########4  |  84% \n",
      "m2w64-gcc-ada-5.3.0  | 31.3 MB   | ########6  |  87% \n",
      "m2w64-gcc-ada-5.3.0  | 31.3 MB   | ########9  |  89% \n",
      "m2w64-gcc-ada-5.3.0  | 31.3 MB   | #########1 |  92% \n",
      "m2w64-gcc-ada-5.3.0  | 31.3 MB   | #########4 |  94% \n",
      "m2w64-gcc-ada-5.3.0  | 31.3 MB   | #########6 |  96% \n",
      "m2w64-gcc-ada-5.3.0  | 31.3 MB   | #########8 |  99% \n",
      "m2w64-gcc-ada-5.3.0  | 31.3 MB   | ########## | 100% \n",
      "\n",
      "m2w64-mpfr-3.1.4     | 277 KB    |            |   0% \n",
      "m2w64-mpfr-3.1.4     | 277 KB    | ########## | 100% \n",
      "\n",
      "m2w64-gcc-objc-5.3.0 | 14.2 MB   |            |   0% \n",
      "m2w64-gcc-objc-5.3.0 | 14.2 MB   |            |   0% \n",
      "m2w64-gcc-objc-5.3.0 | 14.2 MB   | 5          |   6% \n",
      "m2w64-gcc-objc-5.3.0 | 14.2 MB   | #1         |  11% \n",
      "m2w64-gcc-objc-5.3.0 | 14.2 MB   | #6         |  17% \n",
      "m2w64-gcc-objc-5.3.0 | 14.2 MB   | ##1        |  22% \n",
      "m2w64-gcc-objc-5.3.0 | 14.2 MB   | ##7        |  28% \n",
      "m2w64-gcc-objc-5.3.0 | 14.2 MB   | ###3       |  33% \n",
      "m2w64-gcc-objc-5.3.0 | 14.2 MB   | ###8       |  39% \n",
      "m2w64-gcc-objc-5.3.0 | 14.2 MB   | ####4      |  44% \n",
      "m2w64-gcc-objc-5.3.0 | 14.2 MB   | ####9      |  49% \n",
      "m2w64-gcc-objc-5.3.0 | 14.2 MB   | #####5     |  55% \n",
      "m2w64-gcc-objc-5.3.0 | 14.2 MB   | ######     |  61% \n",
      "m2w64-gcc-objc-5.3.0 | 14.2 MB   | ######5    |  65% \n",
      "m2w64-gcc-objc-5.3.0 | 14.2 MB   | ######9    |  70% \n",
      "m2w64-gcc-objc-5.3.0 | 14.2 MB   | #######4   |  75% \n",
      "m2w64-gcc-objc-5.3.0 | 14.2 MB   | ########   |  80% \n",
      "m2w64-gcc-objc-5.3.0 | 14.2 MB   | ########5  |  86% \n",
      "m2w64-gcc-objc-5.3.0 | 14.2 MB   | #########1 |  91% \n",
      "m2w64-gcc-objc-5.3.0 | 14.2 MB   | #########6 |  96% \n",
      "m2w64-gcc-objc-5.3.0 | 14.2 MB   | ########## | 100% \n",
      "\n",
      "m2w64-bzip2-1.0.6    | 96 KB     |            |   0% \n",
      "m2w64-bzip2-1.0.6    | 96 KB     | ########## | 100% \n",
      "\n",
      "m2w64-headers-git-5. | 5.6 MB    |            |   0% \n",
      "m2w64-headers-git-5. | 5.6 MB    |            |   0% \n"
     ]
    },
    {
     "name": "stdout",
     "output_type": "stream",
     "text": [
      "m2w64-headers-git-5. | 5.6 MB    | #4         |  14% \n",
      "m2w64-headers-git-5. | 5.6 MB    | ##8        |  28% \n",
      "m2w64-headers-git-5. | 5.6 MB    | ####       |  40% \n",
      "m2w64-headers-git-5. | 5.6 MB    | ####8      |  48% \n",
      "m2w64-headers-git-5. | 5.6 MB    | ######1    |  62% \n",
      "m2w64-headers-git-5. | 5.6 MB    | #######6   |  76% \n",
      "m2w64-headers-git-5. | 5.6 MB    | #########  |  91% \n",
      "m2w64-headers-git-5. | 5.6 MB    | ########## | 100% \n",
      "\n",
      "m2w64-windows-defaul | 3 KB      |            |   0% \n",
      "m2w64-windows-defaul | 3 KB      | ########## | 100% \n",
      "Preparing transaction: ...working... done\n",
      "Verifying transaction: ...working... failed\n"
     ]
    },
    {
     "name": "stderr",
     "output_type": "stream",
     "text": [
      "\n",
      "EnvironmentNotWritableError: The current user does not have write permissions to the target environment.\n",
      "  environment location: C:\\ProgramData\\Anaconda3\n",
      "\n",
      "\n"
     ]
    },
    {
     "name": "stdout",
     "output_type": "stream",
     "text": [
      "\n",
      "Note: you may need to restart the kernel to use updated packages.\n"
     ]
    }
   ],
   "source": [
    "conda install m2w64-toolchain"
   ]
  },
  {
   "cell_type": "code",
   "execution_count": 1,
   "metadata": {},
   "outputs": [
    {
     "name": "stderr",
     "output_type": "stream",
     "text": [
      "WARNING (theano.configdefaults): g++ not available, if using conda: `conda install m2w64-toolchain`\n",
      "C:\\ProgramData\\Anaconda3\\lib\\site-packages\\theano\\configdefaults.py:560: UserWarning: DeprecationWarning: there is no c++ compiler.This is deprecated and with Theano 0.11 a c++ compiler will be mandatory\n",
      "  warnings.warn(\"DeprecationWarning: there is no c++ compiler.\"\n",
      "WARNING (theano.configdefaults): g++ not detected ! Theano will be unable to execute optimized C-implementations (for both CPU and GPU) and will default to Python implementations. Performance will be severely degraded. To remove this warning, set Theano flags cxx to an empty string.\n",
      "WARNING (theano.tensor.blas): Using NumPy C-API based implementation for BLAS functions.\n"
     ]
    }
   ],
   "source": [
    "import pymc3 as pm\n",
    "import pandas as pd\n",
    "import numpy as np\n",
    "from numpy.random import seed\n",
    "import matplotlib.pyplot as plt\n",
    "%matplotlib inline\n",
    "from scipy.stats import gamma\n",
    "# there has been some incompatibilty between theano and numpy, if you encounter\n",
    "# an error with the latest packages from anaconda, then the included\n",
    "# package-list-txt should allow you to create a conda environment with compatible\n",
    "# packages."
   ]
  },
  {
   "cell_type": "code",
   "execution_count": 2,
   "metadata": {},
   "outputs": [],
   "source": [
    "medical = pd.read_csv('data/insurance2.csv')"
   ]
  },
  {
   "cell_type": "code",
   "execution_count": 3,
   "metadata": {},
   "outputs": [
    {
     "data": {
      "text/html": [
       "<div>\n",
       "<style scoped>\n",
       "    .dataframe tbody tr th:only-of-type {\n",
       "        vertical-align: middle;\n",
       "    }\n",
       "\n",
       "    .dataframe tbody tr th {\n",
       "        vertical-align: top;\n",
       "    }\n",
       "\n",
       "    .dataframe thead th {\n",
       "        text-align: right;\n",
       "    }\n",
       "</style>\n",
       "<table border=\"1\" class=\"dataframe\">\n",
       "  <thead>\n",
       "    <tr style=\"text-align: right;\">\n",
       "      <th></th>\n",
       "      <th>age</th>\n",
       "      <th>sex</th>\n",
       "      <th>bmi</th>\n",
       "      <th>children</th>\n",
       "      <th>smoker</th>\n",
       "      <th>region</th>\n",
       "      <th>charges</th>\n",
       "      <th>insuranceclaim</th>\n",
       "    </tr>\n",
       "  </thead>\n",
       "  <tbody>\n",
       "    <tr>\n",
       "      <th>0</th>\n",
       "      <td>19</td>\n",
       "      <td>0</td>\n",
       "      <td>27.900</td>\n",
       "      <td>0</td>\n",
       "      <td>1</td>\n",
       "      <td>3</td>\n",
       "      <td>16884.92400</td>\n",
       "      <td>1</td>\n",
       "    </tr>\n",
       "    <tr>\n",
       "      <th>1</th>\n",
       "      <td>18</td>\n",
       "      <td>1</td>\n",
       "      <td>33.770</td>\n",
       "      <td>1</td>\n",
       "      <td>0</td>\n",
       "      <td>2</td>\n",
       "      <td>1725.55230</td>\n",
       "      <td>1</td>\n",
       "    </tr>\n",
       "    <tr>\n",
       "      <th>2</th>\n",
       "      <td>28</td>\n",
       "      <td>1</td>\n",
       "      <td>33.000</td>\n",
       "      <td>3</td>\n",
       "      <td>0</td>\n",
       "      <td>2</td>\n",
       "      <td>4449.46200</td>\n",
       "      <td>0</td>\n",
       "    </tr>\n",
       "    <tr>\n",
       "      <th>3</th>\n",
       "      <td>33</td>\n",
       "      <td>1</td>\n",
       "      <td>22.705</td>\n",
       "      <td>0</td>\n",
       "      <td>0</td>\n",
       "      <td>1</td>\n",
       "      <td>21984.47061</td>\n",
       "      <td>0</td>\n",
       "    </tr>\n",
       "    <tr>\n",
       "      <th>4</th>\n",
       "      <td>32</td>\n",
       "      <td>1</td>\n",
       "      <td>28.880</td>\n",
       "      <td>0</td>\n",
       "      <td>0</td>\n",
       "      <td>1</td>\n",
       "      <td>3866.85520</td>\n",
       "      <td>1</td>\n",
       "    </tr>\n",
       "  </tbody>\n",
       "</table>\n",
       "</div>"
      ],
      "text/plain": [
       "   age  sex     bmi  children  smoker  region      charges  insuranceclaim\n",
       "0   19    0  27.900         0       1       3  16884.92400               1\n",
       "1   18    1  33.770         1       0       2   1725.55230               1\n",
       "2   28    1  33.000         3       0       2   4449.46200               0\n",
       "3   33    1  22.705         0       0       1  21984.47061               0\n",
       "4   32    1  28.880         0       0       1   3866.85520               1"
      ]
     },
     "execution_count": 3,
     "metadata": {},
     "output_type": "execute_result"
    }
   ],
   "source": [
    "medical.head()"
   ]
  },
  {
   "cell_type": "code",
   "execution_count": 4,
   "metadata": {},
   "outputs": [],
   "source": [
    "insurance = medical.charges[medical.insuranceclaim == 1]\n",
    "no_insurance = medical.charges[medical.insuranceclaim == 0]\n",
    "n_ins = len(insurance)\n",
    "n_no_ins = len(no_insurance)"
   ]
  },
  {
   "cell_type": "code",
   "execution_count": 5,
   "metadata": {},
   "outputs": [
    {
     "data": {
      "image/png": "[encoded data removed]",
      "text/plain": [
       "<Figure size 432x288 with 1 Axes>"
      ]
     },
     "metadata": {
      "needs_background": "light"
     },
     "output_type": "display_data"
    }
   ],
   "source": [
    "_ = plt.hist(insurance, bins=30, alpha=0.5, label='insurance claim')\n",
    "_ = plt.hist(no_insurance, bins=30, alpha=0.5, label='not insurance claim')\n",
    "_ = plt.xlabel('Charge amount')\n",
    "_ = plt.ylabel('Frequency')\n",
    "_ = plt.legend()"
   ]
  },
  {
   "cell_type": "markdown",
   "metadata": {},
   "source": [
    "We may suspect from the above that there is some sort of exponential-like distribution at play here. The charges that were not insurance claims seem most like this. The insurance claim charges may possibly be multimodal. The gamma distribution may be applicable and we could test this for the distribution of charges that weren't insurance claims first. Developing our new method for the easiest looking case first is a common and sound approach that can demonstrate a minimum viable solution/product and get, or keep, stakeholders on board."
   ]
  },
  {
   "cell_type": "markdown",
   "metadata": {},
   "source": [
    "### Initial parameter estimation"
   ]
  },
  {
   "cell_type": "markdown",
   "metadata": {},
   "source": [
    "An initial guess for the gamma distribution's $\\alpha$ and $\\beta$ parameters can be made as described [here](https://wiki.analytica.com/index.php?title=Gamma_distribution)."
   ]
  },
  {
   "cell_type": "code",
   "execution_count": 6,
   "metadata": {},
   "outputs": [
    {
     "data": {
      "text/plain": [
       "(1.8759059725250857, 4702.486170152821)"
      ]
     },
     "execution_count": 6,
     "metadata": {},
     "output_type": "execute_result"
    }
   ],
   "source": [
    "alpha_est = np.mean(no_insurance)**2 / np.var(no_insurance)\n",
    "beta_est = np.var(no_insurance) / np.mean(no_insurance)\n",
    "alpha_est, beta_est"
   ]
  },
  {
   "cell_type": "markdown",
   "metadata": {},
   "source": [
    "### Initial simulation"
   ]
  },
  {
   "cell_type": "markdown",
   "metadata": {},
   "source": [
    "Let's draw the same number of random variates from this distribution and compare to our observed data."
   ]
  },
  {
   "cell_type": "code",
   "execution_count": 7,
   "metadata": {},
   "outputs": [],
   "source": [
    "seed(47)\n",
    "no_ins_model_rvs = gamma(alpha_est, scale=beta_est).rvs(n_no_ins)"
   ]
  },
  {
   "cell_type": "code",
   "execution_count": 8,
   "metadata": {},
   "outputs": [
    {
     "data": {
      "image/png": "[encoded data removed]",
      "text/plain": [
       "<Figure size 432x288 with 1 Axes>"
      ]
     },
     "metadata": {
      "needs_background": "light"
     },
     "output_type": "display_data"
    }
   ],
   "source": [
    "_ = plt.hist(no_ins_model_rvs, bins=30, alpha=0.5, label='simulated')\n",
    "_ = plt.hist(no_insurance, bins=30, alpha=0.5, label='observed')\n",
    "_ = plt.xlabel('Charge amount')\n",
    "_ = plt.ylabel('Frequency')\n",
    "_ = plt.legend()"
   ]
  },
  {
   "cell_type": "markdown",
   "metadata": {},
   "source": [
    "Well it doesn't look too bad! We're not a million miles off. But can we do better? We have a plausible form for the distribution of charge amounts and potential values for that distribution's parameters so we can already draw random variates from that distribution to perform simulations. But we don't know if we have a _best_ estimate for the population parameters, and we also only have a single estimate each for $\\alpha$ and $\\beta$; we aren't capturing our uncertainty in their values. Can we take a Bayesian inference approach to estimate the parameters?"
   ]
  },
  {
   "cell_type": "markdown",
   "metadata": {},
   "source": [
    "### Creating a PyMC3 model"
   ]
  },
  {
   "cell_type": "code",
   "execution_count": 9,
   "metadata": {},
   "outputs": [
    {
     "data": {
      "text/plain": [
       "(1.8759059725250857, 0.00021265346963636093)"
      ]
     },
     "execution_count": 9,
     "metadata": {},
     "output_type": "execute_result"
    }
   ],
   "source": [
    "# PyMC3 Gamma seems to use rate = 1/beta\n",
    "rate_est = 1/beta_est\n",
    "# Initial parameter estimates we'll use below\n",
    "alpha_est, rate_est"
   ]
  },
  {
   "cell_type": "markdown",
   "metadata": {},
   "source": [
    "__Q:__ You are now going to create your own PyMC3 model!\n",
    "1. Use an [exponential](https://docs.pymc.io/api/distributions/continuous.html#pymc3.distributions.continuous.Exponential) prior for alpha. Call this stochastic variable `alpha_`.\n",
    "2. Similarly, use an exponential prior for the rate ([$1/\\beta$](https://wiki.analytica.com/index.php?title=Gamma_distribution)) parameter in PyMC3's [Gamma](https://docs.pymc.io/api/distributions/continuous.html#pymc3.distributions.continuous.Gamma). Call this stochastic variable `rate_` (but it will be supplied as `pm.Gamma`'s `beta` parameter). Hint: to set up a prior with an exponential distribution for $x$ where you have an initial estimate for $x$ of $x_0$, use a scale parameter of $1/x_0$.\n",
    "5. Create your Gamma distribution with your `alpha_` and `rate_` stochastic variables and the observed data.\n",
    "6. Perform 10000 draws."
   ]
  },
  {
   "cell_type": "markdown",
   "metadata": {},
   "source": [
    "Hint: you may find it helpful to work backwards. Start with your `pm.Gamma`, and note the required stochastic variables `alpha` and `beta`. Then, before that, you need to create those stochastic variables using `pm.Exponential` and the correct parameters."
   ]
  },
  {
   "cell_type": "markdown",
   "metadata": {},
   "source": [
    "__A:__"
   ]
  },
  {
   "cell_type": "code",
   "execution_count": null,
   "metadata": {},
   "outputs": [
    {
     "name": "stderr",
     "output_type": "stream",
     "text": [
      "Auto-assigning NUTS sampler...\n",
      "Initializing NUTS using jitter+adapt_diag...\n",
      "Multiprocess sampling (4 chains in 4 jobs)\n",
      "NUTS: [rate_, alpha_]\n",
      "Sampling 4 chains:  80%|███████████▏  | 33635/42000 [14:22<03:22, 41.30draws/s]"
     ]
    }
   ],
   "source": [
    "model = pm.Model()\n",
    "\n",
    "with model:\n",
    "    alpha_ = pm.Exponential('alpha_', 1/alpha_est)\n",
    "    rate_ = pm.Exponential('rate_', 1/rate_est)\n",
    "    \n",
    "    gama_ = pm.Gamma('gama_', alpha=alpha_, beta=rate_, observed=no_insurance)\n",
    "    \n",
    "    t = pm.sample(draws=10000)"
   ]
  },
  {
   "cell_type": "markdown",
   "metadata": {},
   "source": [
    "If you get a warning about acceptance probability not matching the target, and that it's around 0.88 when it should be close to 0.8, don't worry. We encourage you to read up on this and see if you can adjust the parameters and/or arguments to pm.sample, but if your model runs without any additional warnings or errors then you should be doing great!"
   ]
  },
  {
   "cell_type": "markdown",
   "metadata": {},
   "source": [
    "__Q:__ Explore your posteriors for $\\alpha$ and $\\beta$ (from the trace).\n",
    "* Calculate the 95% credible interval for $\\alpha$ and $\\beta$.\n",
    "* Plot your posterior values of $\\alpha$ and $\\beta$ (both line plots and histograms). \n",
    "* Mark your CIs on the histograms.\n",
    "* Do they look okay? What would bad plots look like?"
   ]
  },
  {
   "cell_type": "markdown",
   "metadata": {},
   "source": [
    "__A:__"
   ]
  },
  {
   "cell_type": "code",
   "execution_count": 21,
   "metadata": {},
   "outputs": [
    {
     "data": {
      "text/plain": [
       "(array([1.9937886 , 2.47759064]), array([3518.83363353, 4484.15901502]))"
      ]
     },
     "execution_count": 21,
     "metadata": {},
     "output_type": "execute_result"
    }
   ],
   "source": [
    "alpha = t['alpha_']\n",
    "alpha_95 = np.percentile(alpha, [2.5, 97.5])\n",
    "\n",
    "beta = 1 / t['rate_']\n",
    "beta_95 = np.percentile(beta, [2.5, 97.5])\n",
    "\n",
    "alpha_95, beta_95"
   ]
  },
  {
   "cell_type": "code",
   "execution_count": 29,
   "metadata": {
    "scrolled": false
   },
   "outputs": [
    {
     "data": {
      "image/png": "[encoded data removed]",
      "text/plain": [
       "<Figure size 432x288 with 1 Axes>"
      ]
     },
     "metadata": {
      "needs_background": "light"
     },
     "output_type": "display_data"
    }
   ],
   "source": [
    "_ = plt.hist(alpha, bins=50)\n",
    "_ = plt.axvline(alpha_95[0], color='r')\n",
    "_ = plt.axvline(alpha_95[1], color='r')\n",
    "_ = plt.ylabel('Occurance')\n",
    "_ = plt.xlabel('alpha')"
   ]
  },
  {
   "cell_type": "code",
   "execution_count": 33,
   "metadata": {},
   "outputs": [
    {
     "name": "stdout",
     "output_type": "stream",
     "text": [
      "Collecting arviz\n",
      "  Downloading https://files.pythonhosted.org/packages/fa/de/7ee2d4da966097029ed40216674b7b84e55c8fbc3bbf8fb0080f930de46c/arviz-0.5.1-py3-none-any.whl (1.4MB)\n"
     ]
    },
    {
     "name": "stderr",
     "output_type": "stream",
     "text": [
      "ERROR: Could not install packages due to an EnvironmentError: [Errno 2] No such file or directory: 'C:\\\\Users\\\\OES\\\\AppData\\\\Local\\\\Temp\\\\pip-req-tracker-ugk40n5o\\\\2e312b33afca3f19f32ab46f1404ccd35f712688fb2fd08245edd10b'\n",
      "\n"
     ]
    },
    {
     "name": "stdout",
     "output_type": "stream",
     "text": [
      "Note: you may need to restart the kernel to use updated packages.\n"
     ]
    }
   ],
   "source": [
    "pip install arviz"
   ]
  },
  {
   "cell_type": "code",
   "execution_count": 32,
   "metadata": {},
   "outputs": [
    {
     "ename": "ImportError",
     "evalue": "ArviZ is not installed. In order to use `plot_posterior`:\npip install arviz",
     "output_type": "error",
     "traceback": [
      "\u001b[1;31m---------------------------------------------------------------------------\u001b[0m",
      "\u001b[1;31mImportError\u001b[0m                               Traceback (most recent call last)",
      "\u001b[1;32m<ipython-input-32-992e1f5aa177>\u001b[0m in \u001b[0;36m<module>\u001b[1;34m\u001b[0m\n\u001b[1;32m----> 1\u001b[1;33m \u001b[0mpm\u001b[0m\u001b[1;33m.\u001b[0m\u001b[0mplots\u001b[0m\u001b[1;33m.\u001b[0m\u001b[0mplot_posterior\u001b[0m\u001b[1;33m(\u001b[0m\u001b[0mdata\u001b[0m\u001b[1;33m=\u001b[0m\u001b[0mt\u001b[0m\u001b[1;33m[\u001b[0m\u001b[1;34m'alpha_'\u001b[0m\u001b[1;33m]\u001b[0m\u001b[1;33m)\u001b[0m\u001b[1;33m\u001b[0m\u001b[1;33m\u001b[0m\u001b[0m\n\u001b[0m\u001b[0;32m      2\u001b[0m \u001b[0mpm\u001b[0m\u001b[1;33m.\u001b[0m\u001b[0mplots\u001b[0m\u001b[1;33m.\u001b[0m\u001b[0mplot_posterior\u001b[0m\u001b[1;33m(\u001b[0m\u001b[0mdata\u001b[0m\u001b[1;33m=\u001b[0m\u001b[0mt\u001b[0m\u001b[1;33m[\u001b[0m\u001b[1;34m'alpha_'\u001b[0m\u001b[1;33m]\u001b[0m\u001b[1;33m,\u001b[0m \u001b[0mkind\u001b[0m\u001b[1;33m=\u001b[0m\u001b[1;34m'hist'\u001b[0m\u001b[1;33m)\u001b[0m\u001b[1;33m\u001b[0m\u001b[1;33m\u001b[0m\u001b[0m\n",
      "\u001b[1;32mC:\\ProgramData\\Anaconda3\\lib\\site-packages\\pymc3\\plots\\__init__.py\u001b[0m in \u001b[0;36mwrapped\u001b[1;34m(*args, **kwargs)\u001b[0m\n\u001b[0;32m     40\u001b[0m                 \u001b[0mwarnings\u001b[0m\u001b[1;33m.\u001b[0m\u001b[0mwarn\u001b[0m\u001b[1;33m(\u001b[0m\u001b[1;34m'Keyword argument `{old}` renamed to `{new}`, and will be removed in pymc3 3.8'\u001b[0m\u001b[1;33m.\u001b[0m\u001b[0mformat\u001b[0m\u001b[1;33m(\u001b[0m\u001b[0mold\u001b[0m\u001b[1;33m=\u001b[0m\u001b[0mold\u001b[0m\u001b[1;33m,\u001b[0m \u001b[0mnew\u001b[0m\u001b[1;33m=\u001b[0m\u001b[0mnew\u001b[0m\u001b[1;33m)\u001b[0m\u001b[1;33m)\u001b[0m\u001b[1;33m\u001b[0m\u001b[1;33m\u001b[0m\u001b[0m\n\u001b[0;32m     41\u001b[0m                 \u001b[0mkwargs\u001b[0m\u001b[1;33m[\u001b[0m\u001b[0mnew\u001b[0m\u001b[1;33m]\u001b[0m \u001b[1;33m=\u001b[0m \u001b[0mkwargs\u001b[0m\u001b[1;33m.\u001b[0m\u001b[0mpop\u001b[0m\u001b[1;33m(\u001b[0m\u001b[0mold\u001b[0m\u001b[1;33m)\u001b[0m\u001b[1;33m\u001b[0m\u001b[1;33m\u001b[0m\u001b[0m\n\u001b[1;32m---> 42\u001b[1;33m             \u001b[1;32mreturn\u001b[0m \u001b[0mfunc\u001b[0m\u001b[1;33m(\u001b[0m\u001b[1;33m*\u001b[0m\u001b[0margs\u001b[0m\u001b[1;33m,\u001b[0m \u001b[1;33m**\u001b[0m\u001b[0mkwargs\u001b[0m\u001b[1;33m)\u001b[0m\u001b[1;33m\u001b[0m\u001b[1;33m\u001b[0m\u001b[0m\n\u001b[0m\u001b[0;32m     43\u001b[0m     \u001b[1;32mreturn\u001b[0m \u001b[0mwrapped\u001b[0m\u001b[1;33m\u001b[0m\u001b[1;33m\u001b[0m\u001b[0m\n\u001b[0;32m     44\u001b[0m \u001b[1;33m\u001b[0m\u001b[0m\n",
      "\u001b[1;32mC:\\ProgramData\\Anaconda3\\lib\\site-packages\\pymc3\\plots\\__init__.py\u001b[0m in \u001b[0;36m__call__\u001b[1;34m(self, *args, **kwargs)\u001b[0m\n\u001b[0;32m     20\u001b[0m         \u001b[1;32mdef\u001b[0m \u001b[0m__call__\u001b[0m\u001b[1;33m(\u001b[0m\u001b[0mself\u001b[0m\u001b[1;33m,\u001b[0m \u001b[1;33m*\u001b[0m\u001b[0margs\u001b[0m\u001b[1;33m,\u001b[0m \u001b[1;33m**\u001b[0m\u001b[0mkwargs\u001b[0m\u001b[1;33m)\u001b[0m\u001b[1;33m:\u001b[0m\u001b[1;33m\u001b[0m\u001b[1;33m\u001b[0m\u001b[0m\n\u001b[0;32m     21\u001b[0m             raise ImportError(\n\u001b[1;32m---> 22\u001b[1;33m                 \u001b[1;34m\"ArviZ is not installed. In order to use `{0.attr}`:\\npip install arviz\"\u001b[0m\u001b[1;33m.\u001b[0m\u001b[0mformat\u001b[0m\u001b[1;33m(\u001b[0m\u001b[0mself\u001b[0m\u001b[1;33m)\u001b[0m\u001b[1;33m\u001b[0m\u001b[1;33m\u001b[0m\u001b[0m\n\u001b[0m\u001b[0;32m     23\u001b[0m             )\n\u001b[0;32m     24\u001b[0m \u001b[1;33m\u001b[0m\u001b[0m\n",
      "\u001b[1;31mImportError\u001b[0m: ArviZ is not installed. In order to use `plot_posterior`:\npip install arviz"
     ]
    }
   ],
   "source": [
    "pm.plots.plot_posterior(data=t['alpha_'])\n",
    "pm.plots.plot_posterior(data=t['alpha_'], kind='hist')"
   ]
  },
  {
   "cell_type": "code",
   "execution_count": 30,
   "metadata": {},
   "outputs": [
    {
     "data": {
      "image/png": "[encoded data removed]",
      "text/plain": [
       "<Figure size 432x288 with 1 Axes>"
      ]
     },
     "metadata": {
      "needs_background": "light"
     },
     "output_type": "display_data"
    }
   ],
   "source": [
    "_ = plt.hist(beta, bins=50)\n",
    "_ = plt.axvline(beta_95[0], color='r')\n",
    "_ = plt.axvline(beta_95[1], color='r')\n",
    "_ = plt.ylabel('Occurance')\n",
    "_ = plt.xlabel('beta')"
   ]
  },
  {
   "cell_type": "code",
   "execution_count": null,
   "metadata": {},
   "outputs": [],
   "source": []
  },
  {
   "cell_type": "code",
   "execution_count": null,
   "metadata": {},
   "outputs": [],
   "source": []
  },
  {
   "cell_type": "markdown",
   "metadata": {},
   "source": []
  },
  {
   "cell_type": "markdown",
   "metadata": {},
   "source": [
    "__Q:__ Play around with some of the built-in diagnostic plots for your model. We suggest at least checking out the traceplot for alpha and beta. How do they look?"
   ]
  },
  {
   "cell_type": "markdown",
   "metadata": {},
   "source": [
    "__A:__"
   ]
  },
  {
   "cell_type": "code",
   "execution_count": null,
   "metadata": {},
   "outputs": [],
   "source": []
  },
  {
   "cell_type": "markdown",
   "metadata": {},
   "source": []
  },
  {
   "cell_type": "code",
   "execution_count": null,
   "metadata": {},
   "outputs": [],
   "source": []
  },
  {
   "cell_type": "markdown",
   "metadata": {},
   "source": [
    "__Q:__ Take your best shot at a new simulated sequence of medical charges using scipy.stat's gamma distribution. Don't forget the difference between functions that take $\\beta$ and functions that use $1/\\beta$ for the scale parameter. Simulate a data set the same size as the number of observations in the data and overlay the two histograms (simulated and observed)."
   ]
  },
  {
   "cell_type": "markdown",
   "metadata": {},
   "source": [
    "__A:__"
   ]
  },
  {
   "cell_type": "code",
   "execution_count": null,
   "metadata": {},
   "outputs": [],
   "source": []
  },
  {
   "cell_type": "code",
   "execution_count": 10,
   "metadata": {
    "scrolled": true
   },
   "outputs": [],
   "source": [
    "seed(47)\n",
    "best_shot_simulated = None"
   ]
  },
  {
   "cell_type": "markdown",
   "metadata": {},
   "source": [
    "## Summary"
   ]
  },
  {
   "cell_type": "markdown",
   "metadata": {},
   "source": [
    "In this exercise, we have postulated a distribution to describe the individual charge amounts for non-insured cases. This distribution has two required parameters, which we do not know, but we used PyMC3 to perform Bayesian inference to find our level of \"belief\" in a range of values for them. We then used the average parameter values to create one simulated data set of the same size as the original, but the distribution of our posteriors for these parameters will allow us to perform simulations of any sample size we desire and for a range of scenarios of different $\\alpha$ and $\\beta$. This could be a powerful tool to model different financial conditions for the hospital. \n",
    "\n",
    "Well done making it through this tricky subject. Starting think Bayesian _and_ starting to get to grips with something like PyMC3 is no easy task. As a data scientist, the most important thing is to be aware that this statistical approach exists, though you may not actually use this approach as much as you use the other approaches you've learned about. Still, we encourage you to think of ways that this approach could apply to the work that you do in this course and throughout your career.  "
   ]
  }
 ],
 "metadata": {
  "kernelspec": {
   "display_name": "Python 3",
   "language": "python",
   "name": "python3"
  },
  "language_info": {
   "codemirror_mode": {
    "name": "ipython",
    "version": 3
   },
   "file_extension": ".py",
   "mimetype": "text/x-python",
   "name": "python",
   "nbconvert_exporter": "python",
   "pygments_lexer": "ipython3",
   "version": "3.7.3"
  }
 },
 "nbformat": 4,
 "nbformat_minor": 2
}
